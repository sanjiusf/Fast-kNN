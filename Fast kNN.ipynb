{
 "cells": [
  {
   "cell_type": "code",
   "execution_count": 68,
   "metadata": {
    "collapsed": true
   },
   "outputs": [],
   "source": [
    "import scipy.io as s\n",
    "import numpy as np\n",
    "import random\n",
    "import math\n",
    "from numpy import linalg as LA\n",
    "import numpy.linalg as lin\n",
    "import pandas as pd"
   ]
  },
  {
   "cell_type": "code",
   "execution_count": 69,
   "metadata": {
    "collapsed": true
   },
   "outputs": [],
   "source": [
    "eeg = s.loadmat('eeg.mat')\n",
    "x_test = np.asarray(eeg['x_te'])\n",
    "x_train = np.asarray(eeg['x_train'])\n",
    "y_test = np.asarray(eeg['y_te'])\n",
    "y_train = np.asarray(eeg['y_train'])"
   ]
  },
  {
   "cell_type": "code",
   "execution_count": 70,
   "metadata": {
    "collapsed": true
   },
   "outputs": [],
   "source": [
    "# Get DFT matrix\n",
    "def get_F(N):\n",
    "    F = np.zeros((N, N), dtype = complex) \n",
    "    for i in range(0, N):\n",
    "        for k in range(0, N):\n",
    "            F[i][k] = math.cos(2 * math.pi * i * k / N) - math.sin(2 * math.pi * i * k / N)*1j\n",
    "    return F"
   ]
  },
  {
   "cell_type": "code",
   "execution_count": 71,
   "metadata": {
    "collapsed": true
   },
   "outputs": [],
   "source": [
    "def get_X(data, blackman_values, length, N):\n",
    "    end = 0\n",
    "    col = 0\n",
    "    val = np.zeros(N)\n",
    "    X = np.zeros((N, length))\n",
    "    for i in range(0, data.shape[0], int(3 * N / 4)):\n",
    "        end = i + N\n",
    "        if(end > data.size):\n",
    "            end = data.size\n",
    "        val[0:int(end - i)] = data[i : i + N]\n",
    "        X[: ,col] = val * blackman_values\n",
    "        val = np.zeros(N)\n",
    "        col = col + 1\n",
    "    return X"
   ]
  },
  {
   "cell_type": "code",
   "execution_count": 72,
   "metadata": {
    "collapsed": true
   },
   "outputs": [],
   "source": [
    "def window(data, hopsize):\n",
    "    return int(np.ceil(data.shape[0]/ hopsize))"
   ]
  },
  {
   "cell_type": "markdown",
   "metadata": {},
   "source": [
    "Set hop size, overlap is 75 %"
   ]
  },
  {
   "cell_type": "code",
   "execution_count": 73,
   "metadata": {
    "collapsed": true
   },
   "outputs": [],
   "source": [
    "N = 64\n",
    "hopsize = 48\n",
    "F = np.zeros((N, N), dtype=np.complex)\n",
    "F = get_F(N)\n",
    "blackman_values = np.blackman(N)\n",
    "train_len = window(x_train, hopsize)\n",
    "test_len = window(x_test, hopsize)"
   ]
  },
  {
   "cell_type": "code",
   "execution_count": 74,
   "metadata": {
    "collapsed": true
   },
   "outputs": [],
   "source": [
    "def get_STFT(data, length):\n",
    "    channel1 = data[:,0,:]\n",
    "    channel2 = data[:,1,:]\n",
    "    channel3 = data[:,2,:]\n",
    "    X1 = np.zeros((N, length + 1, data.shape[2]))\n",
    "    X2 = np.zeros((N, length + 1, data.shape[2]))\n",
    "    X3 = np.zeros((N, length + 1, data.shape[2]))\n",
    "    print(X1.shape)\n",
    "    for i in range(data.shape[2]):\n",
    "        X1[:,:,i] = get_X(channel1[:,i], blackman_values, length + 1, N)\n",
    "        X2[:,:,i] = get_X(channel2[:,i], blackman_values, length + 1, N)\n",
    "        X3[:,:,i] = get_X(channel3[:,i], blackman_values, length + 1, N)\n",
    "    FX1 = np.zeros((X1.shape), dtype = np.complex)\n",
    "    FX2 = np.zeros((X2.shape), dtype = np.complex)\n",
    "    FX3 = np.zeros((X3.shape), dtype = np.complex)\n",
    "    for i in range(0, data.shape[2]):\n",
    "        FX1[:, :, i] = np.dot(F, X1[:, :, i])\n",
    "        FX2[:, :, i] = np.dot(F, X2[:, :, i])\n",
    "        FX3[:, :, i] = np.dot(F, X3[:, :, i])\n",
    "    \n",
    "    return FX1, FX2, FX3\n",
    "    "
   ]
  },
  {
   "cell_type": "markdown",
   "metadata": {},
   "source": [
    "Only interested in MU Wave"
   ]
  },
  {
   "cell_type": "code",
   "execution_count": 75,
   "metadata": {
    "collapsed": true
   },
   "outputs": [],
   "source": [
    "def get_Muwave(FX1, FX2, FX3, data):\n",
    "    FX1 = FX1[2:7, :, :]\n",
    "    FX2 = FX2[2:7, :, :]\n",
    "    FX3 = FX3[2:7, :, :]\n",
    "    Mu_wave = np.zeros((5*17*3, data.shape[2]), dtype = np.complex)\n",
    "    for i in range(data.shape[2]):\n",
    "        input_sample = np.append(FX1[:,:,i].reshape(FX1.shape[0]* FX1.shape[1]), np.append(FX2[:,:,i].reshape(FX2.shape[0]* FX2.shape[1]), FX3[:,:,i].reshape(FX3.shape[0]* FX3.shape[1])))\n",
    "        Mu_wave[:,i] = input_sample\n",
    "    return Mu_wave"
   ]
  },
  {
   "cell_type": "markdown",
   "metadata": {},
   "source": [
    "Added empty last column"
   ]
  },
  {
   "cell_type": "code",
   "execution_count": 76,
   "metadata": {},
   "outputs": [
    {
     "name": "stdout",
     "output_type": "stream",
     "text": [
      "(64, 17, 112)\n",
      "(64, 17, 28)\n"
     ]
    }
   ],
   "source": [
    "FX1_train, FX2_train, FX3_train = get_STFT(x_train, train_len)\n",
    "FX1_test, FX2_test, FX3_test = get_STFT(x_test, test_len)"
   ]
  },
  {
   "cell_type": "code",
   "execution_count": 77,
   "metadata": {},
   "outputs": [
    {
     "data": {
      "text/plain": [
       "(64, 17, 28)"
      ]
     },
     "execution_count": 77,
     "metadata": {},
     "output_type": "execute_result"
    }
   ],
   "source": [
    "FX1_train.shape\n",
    "FX1_test.shape"
   ]
  },
  {
   "cell_type": "code",
   "execution_count": 78,
   "metadata": {
    "collapsed": true
   },
   "outputs": [],
   "source": [
    "Muwave_train =  get_Muwave(FX1_train, FX2_train, FX3_train, x_train)\n",
    "Muwave_test =  get_Muwave(FX1_test, FX2_test, FX3_test, x_test)"
   ]
  },
  {
   "cell_type": "code",
   "execution_count": 79,
   "metadata": {},
   "outputs": [
    {
     "data": {
      "text/plain": [
       "(255, 112)"
      ]
     },
     "execution_count": 79,
     "metadata": {},
     "output_type": "execute_result"
    }
   ],
   "source": [
    "Muwave_train.shape"
   ]
  },
  {
   "cell_type": "code",
   "execution_count": 80,
   "metadata": {
    "collapsed": true
   },
   "outputs": [],
   "source": [
    "# Calculates the covariance for a given matrix\n",
    "\n",
    "def cov_matrix(matrix):\n",
    "    sample = matrix.shape[0] -1\n",
    "    centered_matrix = (np.transpose(matrix) - np.mean(matrix, axis = 1)).transpose()\n",
    "    covmat = np.dot(centered_matrix, centered_matrix.transpose()) / sample\n",
    "    return covmat"
   ]
  },
  {
   "cell_type": "markdown",
   "metadata": {},
   "source": [
    "Doing the PCA"
   ]
  },
  {
   "cell_type": "code",
   "execution_count": 81,
   "metadata": {
    "collapsed": true
   },
   "outputs": [],
   "source": [
    "def PCA(train, test, M):\n",
    "    cov_X = cov_matrix(train)\n",
    "    e_vals, e_vecs = LA.eig(cov_X)\n",
    "    train_mpc = np.dot(e_vecs[:,0:M].transpose(), train)\n",
    "    test_mpc = np.dot(e_vecs[:,0:M].transpose(), test)\n",
    "    return train_mpc, test_mpc"
   ]
  },
  {
   "cell_type": "markdown",
   "metadata": {},
   "source": [
    "Random Projection"
   ]
  },
  {
   "cell_type": "code",
   "execution_count": 82,
   "metadata": {
    "collapsed": true
   },
   "outputs": [],
   "source": [
    "def random_projection(L, M, train_mpc, test_mpc):\n",
    "    A = np.random.rand(L, M)\n",
    "    for i in range (0, L):\n",
    "        A[i,:] = A[i,:] / lin.norm(A[i,:])\n",
    "    train_mpc = train_mpc.real\n",
    "    test_mpc = test_mpc.real\n",
    "    train_proj = np.dot(A, train_mpc)\n",
    "    test_proj = np.dot(A, test_mpc)\n",
    "    return np.sign(train_proj), np.sign(test_proj)"
   ]
  },
  {
   "cell_type": "markdown",
   "metadata": {},
   "source": [
    "Hamming distance is the sum of different values"
   ]
  },
  {
   "cell_type": "code",
   "execution_count": 83,
   "metadata": {
    "collapsed": true
   },
   "outputs": [],
   "source": [
    "def hamming(a, b):\n",
    "    return np.count_nonzero(a != b)"
   ]
  },
  {
   "cell_type": "markdown",
   "metadata": {},
   "source": [
    "Accuracy value for predited and Ground Truth"
   ]
  },
  {
   "cell_type": "code",
   "execution_count": 84,
   "metadata": {
    "collapsed": true
   },
   "outputs": [],
   "source": [
    "def accuracy(predict, ground_truth):\n",
    "    acc = len([i for i, j in zip(predict, ground_truth) if i == j])/28\n",
    "    return acc"
   ]
  },
  {
   "cell_type": "markdown",
   "metadata": {},
   "source": [
    "Stores the hamming Distance between points"
   ]
  },
  {
   "cell_type": "code",
   "execution_count": 85,
   "metadata": {
    "collapsed": true
   },
   "outputs": [],
   "source": [
    "def hamm_distance(x_train, x_test, train_proj, test_proj):\n",
    "    hamm_distance = np.zeros((x_test.shape[2], x_train.shape[2]))\n",
    "    for i in range(x_test.shape[2]):\n",
    "        for j in range(x_train.shape[2]):\n",
    "            hamm_distance[i][j] = hamming(train_proj[:,j], test_proj[:,i])\n",
    "    return hamm_distance"
   ]
  },
  {
   "cell_type": "code",
   "execution_count": 86,
   "metadata": {
    "collapsed": true
   },
   "outputs": [],
   "source": [
    "def kNN(Muwave_train, Muwave_test, M, L, k):\n",
    "    \n",
    "    # 1) PCA\n",
    "    \n",
    "    train_mpc, test_mpc = PCA(Muwave_train, Muwave_test, M\n",
    "                             )\n",
    "    # 2) Random projection keeping sign\n",
    "\n",
    "    train_proj, test_proj = random_projection(L, M, train_mpc, test_mpc)\n",
    "    \n",
    "    # 3) Calculating Hamming Distances\n",
    "    \n",
    "    hamm_dist = hamm_distance(x_train, x_test, train_proj, test_proj)\n",
    "    \n",
    "    # 4) Sorting and getting indexes accordind cluster \n",
    "\n",
    "    k_index = np.zeros((y_test.size, k))\n",
    "    predict = np.zeros(y_test.size)\n",
    "    for i in range (y_test.size):\n",
    "        k_index[i] = hamm_dist[i,:].argsort()[:k]\n",
    "    \n",
    "    k_index = k_index.astype(int)\n",
    "    \n",
    "    # 5) For that index getting the class and checking the maximum class\n",
    "    \n",
    "    for i in range (y_test.size):\n",
    "        all_class = y_train[k_index[i]].reshape(k)\n",
    "        count = np.bincount(all_class)\n",
    "        max_class = np.argmax(count)\n",
    "        #print (max_class)\n",
    "        predict[i] = max_class\n",
    "\n",
    "    # 6) Getting accuracy \n",
    "    \n",
    "    acc = accuracy(predict, y_test)\n",
    "    return acc"
   ]
  },
  {
   "cell_type": "code",
   "execution_count": 87,
   "metadata": {},
   "outputs": [
    {
     "data": {
      "text/plain": [
       "0.7142857142857143"
      ]
     },
     "execution_count": 87,
     "metadata": {},
     "output_type": "execute_result"
    }
   ],
   "source": [
    "acc = kNN(Muwave_train, Muwave_test, 10, 10, 3)\n",
    "acc"
   ]
  },
  {
   "cell_type": "code",
   "execution_count": 88,
   "metadata": {
    "collapsed": true
   },
   "outputs": [],
   "source": [
    "a = np.empty((10, 10, 10)) \n",
    "_M = []\n",
    "_L = []\n",
    "_k = []\n",
    "a = []\n",
    "for M in range(3, 10):\n",
    "    for L in range(3, 10):\n",
    "        for k in range(3, 10):\n",
    "            #a[M][L][k] = kNN(Muwave_train, Muwave_test, M, L, k)\n",
    "            val =  kNN(Muwave_train, Muwave_test, M, L, k)\n",
    "            a.append(val)\n",
    "            _M.append(M)\n",
    "            _L.append(M)\n",
    "            _k.append(k)"
   ]
  },
  {
   "cell_type": "markdown",
   "metadata": {},
   "source": [
    "For M, k, L in (3, 9) . Here is the table of accuracies. KNN using Hamming distance is nice. It sure is fast"
   ]
  },
  {
   "cell_type": "code",
   "execution_count": 89,
   "metadata": {},
   "outputs": [
    {
     "name": "stdout",
     "output_type": "stream",
     "text": [
      "Max acc =  0.821428571429\n",
      "Min acc =  0.214285714286\n"
     ]
    },
    {
     "data": {
      "text/html": [
       "<div>\n",
       "<style>\n",
       "    .dataframe thead tr:only-child th {\n",
       "        text-align: right;\n",
       "    }\n",
       "\n",
       "    .dataframe thead th {\n",
       "        text-align: left;\n",
       "    }\n",
       "\n",
       "    .dataframe tbody tr th {\n",
       "        vertical-align: top;\n",
       "    }\n",
       "</style>\n",
       "<table border=\"1\" class=\"dataframe\">\n",
       "  <thead>\n",
       "    <tr style=\"text-align: right;\">\n",
       "      <th></th>\n",
       "      <th>M</th>\n",
       "      <th>L</th>\n",
       "      <th>k</th>\n",
       "      <th>acc</th>\n",
       "    </tr>\n",
       "  </thead>\n",
       "  <tbody>\n",
       "    <tr>\n",
       "      <th>0</th>\n",
       "      <td>3</td>\n",
       "      <td>3</td>\n",
       "      <td>3</td>\n",
       "      <td>0.464286</td>\n",
       "    </tr>\n",
       "    <tr>\n",
       "      <th>1</th>\n",
       "      <td>3</td>\n",
       "      <td>3</td>\n",
       "      <td>4</td>\n",
       "      <td>0.500000</td>\n",
       "    </tr>\n",
       "    <tr>\n",
       "      <th>2</th>\n",
       "      <td>3</td>\n",
       "      <td>3</td>\n",
       "      <td>5</td>\n",
       "      <td>0.607143</td>\n",
       "    </tr>\n",
       "    <tr>\n",
       "      <th>3</th>\n",
       "      <td>3</td>\n",
       "      <td>3</td>\n",
       "      <td>6</td>\n",
       "      <td>0.500000</td>\n",
       "    </tr>\n",
       "    <tr>\n",
       "      <th>4</th>\n",
       "      <td>3</td>\n",
       "      <td>3</td>\n",
       "      <td>7</td>\n",
       "      <td>0.500000</td>\n",
       "    </tr>\n",
       "    <tr>\n",
       "      <th>5</th>\n",
       "      <td>3</td>\n",
       "      <td>3</td>\n",
       "      <td>8</td>\n",
       "      <td>0.500000</td>\n",
       "    </tr>\n",
       "    <tr>\n",
       "      <th>6</th>\n",
       "      <td>3</td>\n",
       "      <td>3</td>\n",
       "      <td>9</td>\n",
       "      <td>0.500000</td>\n",
       "    </tr>\n",
       "    <tr>\n",
       "      <th>7</th>\n",
       "      <td>3</td>\n",
       "      <td>3</td>\n",
       "      <td>3</td>\n",
       "      <td>0.392857</td>\n",
       "    </tr>\n",
       "    <tr>\n",
       "      <th>8</th>\n",
       "      <td>3</td>\n",
       "      <td>3</td>\n",
       "      <td>4</td>\n",
       "      <td>0.500000</td>\n",
       "    </tr>\n",
       "    <tr>\n",
       "      <th>9</th>\n",
       "      <td>3</td>\n",
       "      <td>3</td>\n",
       "      <td>5</td>\n",
       "      <td>0.464286</td>\n",
       "    </tr>\n",
       "    <tr>\n",
       "      <th>10</th>\n",
       "      <td>3</td>\n",
       "      <td>3</td>\n",
       "      <td>6</td>\n",
       "      <td>0.428571</td>\n",
       "    </tr>\n",
       "    <tr>\n",
       "      <th>11</th>\n",
       "      <td>3</td>\n",
       "      <td>3</td>\n",
       "      <td>7</td>\n",
       "      <td>0.428571</td>\n",
       "    </tr>\n",
       "    <tr>\n",
       "      <th>12</th>\n",
       "      <td>3</td>\n",
       "      <td>3</td>\n",
       "      <td>8</td>\n",
       "      <td>0.500000</td>\n",
       "    </tr>\n",
       "    <tr>\n",
       "      <th>13</th>\n",
       "      <td>3</td>\n",
       "      <td>3</td>\n",
       "      <td>9</td>\n",
       "      <td>0.357143</td>\n",
       "    </tr>\n",
       "    <tr>\n",
       "      <th>14</th>\n",
       "      <td>3</td>\n",
       "      <td>3</td>\n",
       "      <td>3</td>\n",
       "      <td>0.464286</td>\n",
       "    </tr>\n",
       "    <tr>\n",
       "      <th>15</th>\n",
       "      <td>3</td>\n",
       "      <td>3</td>\n",
       "      <td>4</td>\n",
       "      <td>0.392857</td>\n",
       "    </tr>\n",
       "    <tr>\n",
       "      <th>16</th>\n",
       "      <td>3</td>\n",
       "      <td>3</td>\n",
       "      <td>5</td>\n",
       "      <td>0.500000</td>\n",
       "    </tr>\n",
       "    <tr>\n",
       "      <th>17</th>\n",
       "      <td>3</td>\n",
       "      <td>3</td>\n",
       "      <td>6</td>\n",
       "      <td>0.642857</td>\n",
       "    </tr>\n",
       "    <tr>\n",
       "      <th>18</th>\n",
       "      <td>3</td>\n",
       "      <td>3</td>\n",
       "      <td>7</td>\n",
       "      <td>0.464286</td>\n",
       "    </tr>\n",
       "    <tr>\n",
       "      <th>19</th>\n",
       "      <td>3</td>\n",
       "      <td>3</td>\n",
       "      <td>8</td>\n",
       "      <td>0.464286</td>\n",
       "    </tr>\n",
       "    <tr>\n",
       "      <th>20</th>\n",
       "      <td>3</td>\n",
       "      <td>3</td>\n",
       "      <td>9</td>\n",
       "      <td>0.535714</td>\n",
       "    </tr>\n",
       "    <tr>\n",
       "      <th>21</th>\n",
       "      <td>3</td>\n",
       "      <td>3</td>\n",
       "      <td>3</td>\n",
       "      <td>0.428571</td>\n",
       "    </tr>\n",
       "    <tr>\n",
       "      <th>22</th>\n",
       "      <td>3</td>\n",
       "      <td>3</td>\n",
       "      <td>4</td>\n",
       "      <td>0.428571</td>\n",
       "    </tr>\n",
       "    <tr>\n",
       "      <th>23</th>\n",
       "      <td>3</td>\n",
       "      <td>3</td>\n",
       "      <td>5</td>\n",
       "      <td>0.428571</td>\n",
       "    </tr>\n",
       "    <tr>\n",
       "      <th>24</th>\n",
       "      <td>3</td>\n",
       "      <td>3</td>\n",
       "      <td>6</td>\n",
       "      <td>0.464286</td>\n",
       "    </tr>\n",
       "    <tr>\n",
       "      <th>25</th>\n",
       "      <td>3</td>\n",
       "      <td>3</td>\n",
       "      <td>7</td>\n",
       "      <td>0.464286</td>\n",
       "    </tr>\n",
       "    <tr>\n",
       "      <th>26</th>\n",
       "      <td>3</td>\n",
       "      <td>3</td>\n",
       "      <td>8</td>\n",
       "      <td>0.464286</td>\n",
       "    </tr>\n",
       "    <tr>\n",
       "      <th>27</th>\n",
       "      <td>3</td>\n",
       "      <td>3</td>\n",
       "      <td>9</td>\n",
       "      <td>0.428571</td>\n",
       "    </tr>\n",
       "    <tr>\n",
       "      <th>28</th>\n",
       "      <td>3</td>\n",
       "      <td>3</td>\n",
       "      <td>3</td>\n",
       "      <td>0.642857</td>\n",
       "    </tr>\n",
       "    <tr>\n",
       "      <th>29</th>\n",
       "      <td>3</td>\n",
       "      <td>3</td>\n",
       "      <td>4</td>\n",
       "      <td>0.464286</td>\n",
       "    </tr>\n",
       "    <tr>\n",
       "      <th>...</th>\n",
       "      <td>...</td>\n",
       "      <td>...</td>\n",
       "      <td>...</td>\n",
       "      <td>...</td>\n",
       "    </tr>\n",
       "    <tr>\n",
       "      <th>313</th>\n",
       "      <td>9</td>\n",
       "      <td>9</td>\n",
       "      <td>8</td>\n",
       "      <td>0.464286</td>\n",
       "    </tr>\n",
       "    <tr>\n",
       "      <th>314</th>\n",
       "      <td>9</td>\n",
       "      <td>9</td>\n",
       "      <td>9</td>\n",
       "      <td>0.500000</td>\n",
       "    </tr>\n",
       "    <tr>\n",
       "      <th>315</th>\n",
       "      <td>9</td>\n",
       "      <td>9</td>\n",
       "      <td>3</td>\n",
       "      <td>0.428571</td>\n",
       "    </tr>\n",
       "    <tr>\n",
       "      <th>316</th>\n",
       "      <td>9</td>\n",
       "      <td>9</td>\n",
       "      <td>4</td>\n",
       "      <td>0.535714</td>\n",
       "    </tr>\n",
       "    <tr>\n",
       "      <th>317</th>\n",
       "      <td>9</td>\n",
       "      <td>9</td>\n",
       "      <td>5</td>\n",
       "      <td>0.500000</td>\n",
       "    </tr>\n",
       "    <tr>\n",
       "      <th>318</th>\n",
       "      <td>9</td>\n",
       "      <td>9</td>\n",
       "      <td>6</td>\n",
       "      <td>0.571429</td>\n",
       "    </tr>\n",
       "    <tr>\n",
       "      <th>319</th>\n",
       "      <td>9</td>\n",
       "      <td>9</td>\n",
       "      <td>7</td>\n",
       "      <td>0.607143</td>\n",
       "    </tr>\n",
       "    <tr>\n",
       "      <th>320</th>\n",
       "      <td>9</td>\n",
       "      <td>9</td>\n",
       "      <td>8</td>\n",
       "      <td>0.607143</td>\n",
       "    </tr>\n",
       "    <tr>\n",
       "      <th>321</th>\n",
       "      <td>9</td>\n",
       "      <td>9</td>\n",
       "      <td>9</td>\n",
       "      <td>0.500000</td>\n",
       "    </tr>\n",
       "    <tr>\n",
       "      <th>322</th>\n",
       "      <td>9</td>\n",
       "      <td>9</td>\n",
       "      <td>3</td>\n",
       "      <td>0.428571</td>\n",
       "    </tr>\n",
       "    <tr>\n",
       "      <th>323</th>\n",
       "      <td>9</td>\n",
       "      <td>9</td>\n",
       "      <td>4</td>\n",
       "      <td>0.500000</td>\n",
       "    </tr>\n",
       "    <tr>\n",
       "      <th>324</th>\n",
       "      <td>9</td>\n",
       "      <td>9</td>\n",
       "      <td>5</td>\n",
       "      <td>0.535714</td>\n",
       "    </tr>\n",
       "    <tr>\n",
       "      <th>325</th>\n",
       "      <td>9</td>\n",
       "      <td>9</td>\n",
       "      <td>6</td>\n",
       "      <td>0.535714</td>\n",
       "    </tr>\n",
       "    <tr>\n",
       "      <th>326</th>\n",
       "      <td>9</td>\n",
       "      <td>9</td>\n",
       "      <td>7</td>\n",
       "      <td>0.464286</td>\n",
       "    </tr>\n",
       "    <tr>\n",
       "      <th>327</th>\n",
       "      <td>9</td>\n",
       "      <td>9</td>\n",
       "      <td>8</td>\n",
       "      <td>0.535714</td>\n",
       "    </tr>\n",
       "    <tr>\n",
       "      <th>328</th>\n",
       "      <td>9</td>\n",
       "      <td>9</td>\n",
       "      <td>9</td>\n",
       "      <td>0.535714</td>\n",
       "    </tr>\n",
       "    <tr>\n",
       "      <th>329</th>\n",
       "      <td>9</td>\n",
       "      <td>9</td>\n",
       "      <td>3</td>\n",
       "      <td>0.428571</td>\n",
       "    </tr>\n",
       "    <tr>\n",
       "      <th>330</th>\n",
       "      <td>9</td>\n",
       "      <td>9</td>\n",
       "      <td>4</td>\n",
       "      <td>0.500000</td>\n",
       "    </tr>\n",
       "    <tr>\n",
       "      <th>331</th>\n",
       "      <td>9</td>\n",
       "      <td>9</td>\n",
       "      <td>5</td>\n",
       "      <td>0.535714</td>\n",
       "    </tr>\n",
       "    <tr>\n",
       "      <th>332</th>\n",
       "      <td>9</td>\n",
       "      <td>9</td>\n",
       "      <td>6</td>\n",
       "      <td>0.571429</td>\n",
       "    </tr>\n",
       "    <tr>\n",
       "      <th>333</th>\n",
       "      <td>9</td>\n",
       "      <td>9</td>\n",
       "      <td>7</td>\n",
       "      <td>0.500000</td>\n",
       "    </tr>\n",
       "    <tr>\n",
       "      <th>334</th>\n",
       "      <td>9</td>\n",
       "      <td>9</td>\n",
       "      <td>8</td>\n",
       "      <td>0.535714</td>\n",
       "    </tr>\n",
       "    <tr>\n",
       "      <th>335</th>\n",
       "      <td>9</td>\n",
       "      <td>9</td>\n",
       "      <td>9</td>\n",
       "      <td>0.464286</td>\n",
       "    </tr>\n",
       "    <tr>\n",
       "      <th>336</th>\n",
       "      <td>9</td>\n",
       "      <td>9</td>\n",
       "      <td>3</td>\n",
       "      <td>0.464286</td>\n",
       "    </tr>\n",
       "    <tr>\n",
       "      <th>337</th>\n",
       "      <td>9</td>\n",
       "      <td>9</td>\n",
       "      <td>4</td>\n",
       "      <td>0.535714</td>\n",
       "    </tr>\n",
       "    <tr>\n",
       "      <th>338</th>\n",
       "      <td>9</td>\n",
       "      <td>9</td>\n",
       "      <td>5</td>\n",
       "      <td>0.535714</td>\n",
       "    </tr>\n",
       "    <tr>\n",
       "      <th>339</th>\n",
       "      <td>9</td>\n",
       "      <td>9</td>\n",
       "      <td>6</td>\n",
       "      <td>0.535714</td>\n",
       "    </tr>\n",
       "    <tr>\n",
       "      <th>340</th>\n",
       "      <td>9</td>\n",
       "      <td>9</td>\n",
       "      <td>7</td>\n",
       "      <td>0.607143</td>\n",
       "    </tr>\n",
       "    <tr>\n",
       "      <th>341</th>\n",
       "      <td>9</td>\n",
       "      <td>9</td>\n",
       "      <td>8</td>\n",
       "      <td>0.500000</td>\n",
       "    </tr>\n",
       "    <tr>\n",
       "      <th>342</th>\n",
       "      <td>9</td>\n",
       "      <td>9</td>\n",
       "      <td>9</td>\n",
       "      <td>0.571429</td>\n",
       "    </tr>\n",
       "  </tbody>\n",
       "</table>\n",
       "<p>343 rows × 4 columns</p>\n",
       "</div>"
      ],
      "text/plain": [
       "     M  L  k       acc\n",
       "0    3  3  3  0.464286\n",
       "1    3  3  4  0.500000\n",
       "2    3  3  5  0.607143\n",
       "3    3  3  6  0.500000\n",
       "4    3  3  7  0.500000\n",
       "5    3  3  8  0.500000\n",
       "6    3  3  9  0.500000\n",
       "7    3  3  3  0.392857\n",
       "8    3  3  4  0.500000\n",
       "9    3  3  5  0.464286\n",
       "10   3  3  6  0.428571\n",
       "11   3  3  7  0.428571\n",
       "12   3  3  8  0.500000\n",
       "13   3  3  9  0.357143\n",
       "14   3  3  3  0.464286\n",
       "15   3  3  4  0.392857\n",
       "16   3  3  5  0.500000\n",
       "17   3  3  6  0.642857\n",
       "18   3  3  7  0.464286\n",
       "19   3  3  8  0.464286\n",
       "20   3  3  9  0.535714\n",
       "21   3  3  3  0.428571\n",
       "22   3  3  4  0.428571\n",
       "23   3  3  5  0.428571\n",
       "24   3  3  6  0.464286\n",
       "25   3  3  7  0.464286\n",
       "26   3  3  8  0.464286\n",
       "27   3  3  9  0.428571\n",
       "28   3  3  3  0.642857\n",
       "29   3  3  4  0.464286\n",
       "..  .. .. ..       ...\n",
       "313  9  9  8  0.464286\n",
       "314  9  9  9  0.500000\n",
       "315  9  9  3  0.428571\n",
       "316  9  9  4  0.535714\n",
       "317  9  9  5  0.500000\n",
       "318  9  9  6  0.571429\n",
       "319  9  9  7  0.607143\n",
       "320  9  9  8  0.607143\n",
       "321  9  9  9  0.500000\n",
       "322  9  9  3  0.428571\n",
       "323  9  9  4  0.500000\n",
       "324  9  9  5  0.535714\n",
       "325  9  9  6  0.535714\n",
       "326  9  9  7  0.464286\n",
       "327  9  9  8  0.535714\n",
       "328  9  9  9  0.535714\n",
       "329  9  9  3  0.428571\n",
       "330  9  9  4  0.500000\n",
       "331  9  9  5  0.535714\n",
       "332  9  9  6  0.571429\n",
       "333  9  9  7  0.500000\n",
       "334  9  9  8  0.535714\n",
       "335  9  9  9  0.464286\n",
       "336  9  9  3  0.464286\n",
       "337  9  9  4  0.535714\n",
       "338  9  9  5  0.535714\n",
       "339  9  9  6  0.535714\n",
       "340  9  9  7  0.607143\n",
       "341  9  9  8  0.500000\n",
       "342  9  9  9  0.571429\n",
       "\n",
       "[343 rows x 4 columns]"
      ]
     },
     "execution_count": 89,
     "metadata": {},
     "output_type": "execute_result"
    }
   ],
   "source": [
    "\n",
    "d = pd.DataFrame()\n",
    "d['M'] = _M\n",
    "d['L'] = _L\n",
    "d['k'] = _k\n",
    "d['acc'] = a\n",
    "print(\"Max acc = \" , d['acc'].max())\n",
    "print(\"Min acc = \" ,d['acc'].min())\n",
    "d"
   ]
  }
 ],
 "metadata": {
  "kernelspec": {
   "display_name": "Python 3",
   "language": "python",
   "name": "python3"
  },
  "language_info": {
   "codemirror_mode": {
    "name": "ipython",
    "version": 3
   },
   "file_extension": ".py",
   "mimetype": "text/x-python",
   "name": "python",
   "nbconvert_exporter": "python",
   "pygments_lexer": "ipython3",
   "version": "3.6.7"
  }
 },
 "nbformat": 4,
 "nbformat_minor": 2
}
